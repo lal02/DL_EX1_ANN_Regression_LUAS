{
 "cells": [
  {
   "cell_type": "markdown",
   "id": "9b95c815",
   "metadata": {},
   "source": [
    "Analyze Data, Find outliers, remove them"
   ]
  },
  {
   "cell_type": "code",
   "execution_count": 22,
   "id": "9b994d07",
   "metadata": {},
   "outputs": [
    {
     "data": {
      "text/html": [
       "<div>\n",
       "<style scoped>\n",
       "    .dataframe tbody tr th:only-of-type {\n",
       "        vertical-align: middle;\n",
       "    }\n",
       "\n",
       "    .dataframe tbody tr th {\n",
       "        vertical-align: top;\n",
       "    }\n",
       "\n",
       "    .dataframe thead th {\n",
       "        text-align: right;\n",
       "    }\n",
       "</style>\n",
       "<table border=\"1\" class=\"dataframe\">\n",
       "  <thead>\n",
       "    <tr style=\"text-align: right;\">\n",
       "      <th></th>\n",
       "      <th>Price</th>\n",
       "      <th>Levy</th>\n",
       "      <th>Manufacturer</th>\n",
       "      <th>Model</th>\n",
       "      <th>Prod. year</th>\n",
       "      <th>Category</th>\n",
       "      <th>Leather interior</th>\n",
       "      <th>Fuel type</th>\n",
       "      <th>Engine volume</th>\n",
       "      <th>Mileage</th>\n",
       "      <th>Cylinders</th>\n",
       "      <th>Gear box type</th>\n",
       "      <th>Drive wheels</th>\n",
       "      <th>Doors</th>\n",
       "      <th>Wheel</th>\n",
       "      <th>Color</th>\n",
       "      <th>Airbags</th>\n",
       "    </tr>\n",
       "  </thead>\n",
       "  <tbody>\n",
       "    <tr>\n",
       "      <th>0</th>\n",
       "      <td>13328</td>\n",
       "      <td>1399</td>\n",
       "      <td>1</td>\n",
       "      <td>1</td>\n",
       "      <td>2010</td>\n",
       "      <td>1</td>\n",
       "      <td>1</td>\n",
       "      <td>1</td>\n",
       "      <td>3.5</td>\n",
       "      <td>186005</td>\n",
       "      <td>6.0</td>\n",
       "      <td>1</td>\n",
       "      <td>1</td>\n",
       "      <td>1</td>\n",
       "      <td>1</td>\n",
       "      <td>1</td>\n",
       "      <td>12</td>\n",
       "    </tr>\n",
       "    <tr>\n",
       "      <th>1</th>\n",
       "      <td>16621</td>\n",
       "      <td>1018</td>\n",
       "      <td>2</td>\n",
       "      <td>2</td>\n",
       "      <td>2011</td>\n",
       "      <td>1</td>\n",
       "      <td>0</td>\n",
       "      <td>2</td>\n",
       "      <td>3.0</td>\n",
       "      <td>192000</td>\n",
       "      <td>6.0</td>\n",
       "      <td>2</td>\n",
       "      <td>1</td>\n",
       "      <td>1</td>\n",
       "      <td>1</td>\n",
       "      <td>2</td>\n",
       "      <td>8</td>\n",
       "    </tr>\n",
       "    <tr>\n",
       "      <th>2</th>\n",
       "      <td>8467</td>\n",
       "      <td>0</td>\n",
       "      <td>3</td>\n",
       "      <td>3</td>\n",
       "      <td>2006</td>\n",
       "      <td>2</td>\n",
       "      <td>0</td>\n",
       "      <td>2</td>\n",
       "      <td>1.3</td>\n",
       "      <td>200000</td>\n",
       "      <td>4.0</td>\n",
       "      <td>3</td>\n",
       "      <td>2</td>\n",
       "      <td>1</td>\n",
       "      <td>2</td>\n",
       "      <td>2</td>\n",
       "      <td>2</td>\n",
       "    </tr>\n",
       "    <tr>\n",
       "      <th>3</th>\n",
       "      <td>3607</td>\n",
       "      <td>862</td>\n",
       "      <td>4</td>\n",
       "      <td>4</td>\n",
       "      <td>2011</td>\n",
       "      <td>1</td>\n",
       "      <td>1</td>\n",
       "      <td>1</td>\n",
       "      <td>2.5</td>\n",
       "      <td>168966</td>\n",
       "      <td>4.0</td>\n",
       "      <td>1</td>\n",
       "      <td>1</td>\n",
       "      <td>1</td>\n",
       "      <td>1</td>\n",
       "      <td>3</td>\n",
       "      <td>0</td>\n",
       "    </tr>\n",
       "    <tr>\n",
       "      <th>4</th>\n",
       "      <td>11726</td>\n",
       "      <td>446</td>\n",
       "      <td>3</td>\n",
       "      <td>3</td>\n",
       "      <td>2014</td>\n",
       "      <td>2</td>\n",
       "      <td>1</td>\n",
       "      <td>2</td>\n",
       "      <td>1.3</td>\n",
       "      <td>91901</td>\n",
       "      <td>4.0</td>\n",
       "      <td>1</td>\n",
       "      <td>2</td>\n",
       "      <td>1</td>\n",
       "      <td>1</td>\n",
       "      <td>1</td>\n",
       "      <td>4</td>\n",
       "    </tr>\n",
       "  </tbody>\n",
       "</table>\n",
       "</div>"
      ],
      "text/plain": [
       "   Price  Levy  Manufacturer  Model  Prod. year  Category  Leather interior  \\\n",
       "0  13328  1399             1      1        2010         1                 1   \n",
       "1  16621  1018             2      2        2011         1                 0   \n",
       "2   8467     0             3      3        2006         2                 0   \n",
       "3   3607   862             4      4        2011         1                 1   \n",
       "4  11726   446             3      3        2014         2                 1   \n",
       "\n",
       "   Fuel type  Engine volume  Mileage  Cylinders  Gear box type  Drive wheels  \\\n",
       "0          1            3.5   186005        6.0              1             1   \n",
       "1          2            3.0   192000        6.0              2             1   \n",
       "2          2            1.3   200000        4.0              3             2   \n",
       "3          1            2.5   168966        4.0              1             1   \n",
       "4          2            1.3    91901        4.0              1             2   \n",
       "\n",
       "   Doors  Wheel  Color  Airbags  \n",
       "0      1      1      1       12  \n",
       "1      1      1      2        8  \n",
       "2      1      2      2        2  \n",
       "3      1      1      3        0  \n",
       "4      1      1      1        4  "
      ]
     },
     "execution_count": 22,
     "metadata": {},
     "output_type": "execute_result"
    }
   ],
   "source": [
    "import pandas as pd \n",
    "import matplotlib.pyplot as plt \n",
    "df = pd.read_csv(\"datasets/manipulation/2.csv\")\n",
    "df.head()"
   ]
  },
  {
   "cell_type": "markdown",
   "id": "a575f8b6",
   "metadata": {},
   "source": [
    "Find outliers using plots:\n",
    "src: docs https://pandas.pydata.org/docs/getting_started/intro_tutorials/04_plotting.html\n"
   ]
  },
  {
   "cell_type": "markdown",
   "id": "fe6ef13c",
   "metadata": {},
   "source": [
    "Find price outliers"
   ]
  },
  {
   "cell_type": "code",
   "execution_count": 18,
   "id": "03aacdff",
   "metadata": {},
   "outputs": [
    {
     "name": "stdout",
     "output_type": "stream",
     "text": [
      "       Price  Levy  Manufacturer  Model  Prod. year  Category  \\\n",
      "7705  872946  2067            60   1005        2019         6   \n",
      "4506  308906  1694             9     60        2016         7   \n",
      "6981  288521  2269            10    952        2018         3   \n",
      "4250  175622  2819            44    714        2016         3   \n",
      "5831  172486     0             1    500        2013         1   \n",
      "\n",
      "      Leather interior  Fuel type  Engine volume  Mileage  Cylinders  \\\n",
      "7705                 1          2            4.0     2531        8.0   \n",
      "4506                 1          2            4.0     8690        6.0   \n",
      "6981                 1          2            4.4    13500        8.0   \n",
      "4250                 1          2            6.8     6189        8.0   \n",
      "5831                 1          2            5.7    78400        8.0   \n",
      "\n",
      "      Gear box type  Drive wheels  Doors  Wheel  Color  Airbags  \n",
      "7705              2             1      1      1      2        0  \n",
      "4506              1             3      2      1      2       12  \n",
      "6981              2             1      1      1      2        0  \n",
      "4250              1             3      1      1      2       12  \n",
      "5831              2             1      1      1      2       12  \n"
     ]
    },
    {
     "data": {
      "image/png": "[encoded data removed]",
      "text/plain": [
       "<Figure size 640x480 with 1 Axes>"
      ]
     },
     "metadata": {},
     "output_type": "display_data"
    }
   ],
   "source": [
    "df[\"Price\"].plot()\n",
    "df[\"Price\"].describe()\n",
    "\n",
    "sorted_df = df.sort_values(by='Price', ascending=False)\n",
    "print(sorted_df.head())\n",
    "# => 15266  26307500     0             8    207        1999         5   huge outlier with 26Million$ => manually remove it from the csv"
   ]
  },
  {
   "cell_type": "markdown",
   "id": "2b5990ca",
   "metadata": {},
   "source": [
    "Find Levy Outliers"
   ]
  },
  {
   "cell_type": "code",
   "execution_count": 23,
   "id": "23571649",
   "metadata": {},
   "outputs": [
    {
     "name": "stdout",
     "output_type": "stream",
     "text": [
      "       Price  Levy  Manufacturer  Model  Prod. year  Category  \\\n",
      "15389   7213  7536            19     77        2000         1   \n",
      "3587   13172  7063             6    411        2003         8   \n",
      "1951   10349  7058            16     83        2005         3   \n",
      "4980    5645  5908            10    188        1999         3   \n",
      "4828    7840  5877             7    373        2005         9   \n",
      "\n",
      "       Leather interior  Fuel type  Engine volume  Mileage  Cylinders  \\\n",
      "15389                 1          4            3.2   210000        6.0   \n",
      "3587                  1          6            3.0   190000        6.0   \n",
      "1951                  1          2            3.0   147000        6.0   \n",
      "4980                  0          2            2.5        0        6.0   \n",
      "4828                  0          2            7.3   156470       12.0   \n",
      "\n",
      "       Gear box type  Drive wheels  Doors  Wheel  Color  Airbags  \n",
      "15389              1             1      1      2      2        2  \n",
      "3587               1             1      1      2     12        8  \n",
      "1951               2             1      1      2      2        6  \n",
      "4980               2             3      1      2      1        4  \n",
      "4828               1             3      1      1      2       12  \n"
     ]
    },
    {
     "data": {
      "image/png": "[encoded data removed]",
      "text/plain": [
       "<Figure size 640x480 with 1 Axes>"
      ]
     },
     "metadata": {},
     "output_type": "display_data"
    }
   ],
   "source": [
    "df[\"Levy\"].plot()\n",
    "df[\"Levy\"].describe()\n",
    "\n",
    "sorted_df = df.sort_values(by='Levy', ascending=False)\n",
    "print(sorted_df.head())\n",
    "# 102    11917  11714             7     68        2003         3   \n",
    "#17076  11917  11714             7    306        2003         3   \n",
    "#17050  14740  11706             7   1583        2005         3   \n",
    "# 3 outliers manually removed"
   ]
  }
 ],
 "metadata": {
  "kernelspec": {
   "display_name": "DL",
   "language": "python",
   "name": "python3"
  },
  "language_info": {
   "codemirror_mode": {
    "name": "ipython",
    "version": 3
   },
   "file_extension": ".py",
   "mimetype": "text/x-python",
   "name": "python",
   "nbconvert_exporter": "python",
   "pygments_lexer": "ipython3",
   "version": "3.12.11"
  }
 },
 "nbformat": 4,
 "nbformat_minor": 5
}
